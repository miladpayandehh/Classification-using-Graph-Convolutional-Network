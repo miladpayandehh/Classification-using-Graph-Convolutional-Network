{
  "nbformat": 4,
  "nbformat_minor": 0,
  "metadata": {
    "colab": {
      "provenance": []
    },
    "kernelspec": {
      "name": "python3",
      "display_name": "Python 3"
    },
    "language_info": {
      "name": "python"
    }
  },
  "cells": [
    {
      "cell_type": "code",
      "source": [
        "!pip install dgl"
      ],
      "metadata": {
        "colab": {
          "base_uri": "https://localhost:8080/"
        },
        "id": "sHqCmLSq8AR1",
        "outputId": "d66d8e26-2b02-4566-e638-3f6e17804a05"
      },
      "execution_count": null,
      "outputs": [
        {
          "output_type": "stream",
          "name": "stdout",
          "text": [
            "Requirement already satisfied: dgl in /usr/local/lib/python3.10/dist-packages (1.1.1)\n",
            "Requirement already satisfied: numpy>=1.14.0 in /usr/local/lib/python3.10/dist-packages (from dgl) (1.22.4)\n",
            "Requirement already satisfied: scipy>=1.1.0 in /usr/local/lib/python3.10/dist-packages (from dgl) (1.10.1)\n",
            "Requirement already satisfied: networkx>=2.1 in /usr/local/lib/python3.10/dist-packages (from dgl) (3.1)\n",
            "Requirement already satisfied: requests>=2.19.0 in /usr/local/lib/python3.10/dist-packages (from dgl) (2.27.1)\n",
            "Requirement already satisfied: tqdm in /usr/local/lib/python3.10/dist-packages (from dgl) (4.65.0)\n",
            "Requirement already satisfied: psutil>=5.8.0 in /usr/local/lib/python3.10/dist-packages (from dgl) (5.9.5)\n",
            "Requirement already satisfied: urllib3<1.27,>=1.21.1 in /usr/local/lib/python3.10/dist-packages (from requests>=2.19.0->dgl) (1.26.16)\n",
            "Requirement already satisfied: certifi>=2017.4.17 in /usr/local/lib/python3.10/dist-packages (from requests>=2.19.0->dgl) (2023.5.7)\n",
            "Requirement already satisfied: charset-normalizer~=2.0.0 in /usr/local/lib/python3.10/dist-packages (from requests>=2.19.0->dgl) (2.0.12)\n",
            "Requirement already satisfied: idna<4,>=2.5 in /usr/local/lib/python3.10/dist-packages (from requests>=2.19.0->dgl) (3.4)\n"
          ]
        }
      ]
    },
    {
      "cell_type": "code",
      "source": [
        "import dgl"
      ],
      "metadata": {
        "id": "ktHNfHaz8Mb1"
      },
      "execution_count": null,
      "outputs": []
    },
    {
      "cell_type": "code",
      "source": [
        "dataset = dgl.data.CiteseerGraphDataset()\n",
        "graph = dataset[0]"
      ],
      "metadata": {
        "colab": {
          "base_uri": "https://localhost:8080/"
        },
        "id": "5SB6Gwih8Olz",
        "outputId": "a1a17c95-2eeb-4498-c04f-f09898b2340b"
      },
      "execution_count": null,
      "outputs": [
        {
          "output_type": "stream",
          "name": "stdout",
          "text": [
            "  NumNodes: 3327\n",
            "  NumEdges: 9228\n",
            "  NumFeats: 3703\n",
            "  NumClasses: 6\n",
            "  NumTrainingSamples: 120\n",
            "  NumValidationSamples: 500\n",
            "  NumTestSamples: 1000\n",
            "Done loading data from cached files.\n"
          ]
        }
      ]
    },
    {
      "cell_type": "code",
      "source": [
        "features = graph.ndata['feat']\n",
        "labels = graph.ndata['label']"
      ],
      "metadata": {
        "id": "G_xOcz2T8WXq"
      },
      "execution_count": null,
      "outputs": []
    },
    {
      "cell_type": "code",
      "source": [
        "train_mask = graph.ndata['train_mask']\n",
        "test_mask = graph.ndata['test_mask']"
      ],
      "metadata": {
        "id": "d_tGpFVT8nRS"
      },
      "execution_count": null,
      "outputs": []
    },
    {
      "cell_type": "code",
      "source": [
        "train_mask"
      ],
      "metadata": {
        "colab": {
          "base_uri": "https://localhost:8080/"
        },
        "id": "bZqe8LGD83Et",
        "outputId": "7d8bf53e-c35c-4ef3-895b-fdcb3d2f0263"
      },
      "execution_count": null,
      "outputs": [
        {
          "output_type": "execute_result",
          "data": {
            "text/plain": [
              "tensor([ True,  True,  True,  ..., False, False, False])"
            ]
          },
          "metadata": {},
          "execution_count": 6
        }
      ]
    },
    {
      "cell_type": "code",
      "source": [
        "labels[train_mask]"
      ],
      "metadata": {
        "colab": {
          "base_uri": "https://localhost:8080/"
        },
        "id": "bXCPBD__85NR",
        "outputId": "4eb278ea-b78c-431c-961a-dde6f0e6d716"
      },
      "execution_count": null,
      "outputs": [
        {
          "output_type": "execute_result",
          "data": {
            "text/plain": [
              "tensor([3, 1, 5, 5, 3, 1, 3, 0, 3, 5, 2, 4, 2, 1, 2, 3, 2, 4, 4, 0, 1, 5, 5, 3,\n",
              "        5, 2, 5, 2, 4, 2, 2, 2, 4, 5, 2, 3, 4, 5, 3, 3, 2, 1, 2, 1, 5, 1, 1, 4,\n",
              "        2, 3, 3, 2, 5, 2, 5, 1, 4, 1, 4, 2, 2, 3, 4, 5, 5, 1, 3, 3, 4, 2, 4, 1,\n",
              "        1, 5, 0, 2, 0, 3, 5, 2, 4, 1, 1, 4, 4, 0, 4, 4, 5, 3, 5, 5, 4, 5, 3, 1,\n",
              "        4, 4, 3, 1, 3, 0, 1, 1, 1, 3, 0, 0, 0, 0, 0, 0, 0, 0, 0, 0, 0, 0, 0, 0])"
            ]
          },
          "metadata": {},
          "execution_count": 7
        }
      ]
    },
    {
      "cell_type": "markdown",
      "source": [
        "\n",
        "```\n",
        "dgl.nn.pytorch.conv.GraphConv(in_feats, out_feats,\n",
        "                                  norm='both', weight=True, bias=True,\n",
        "                                      activation=None,\n",
        "                                          allow_zero_in_degree=False)\n",
        "\n"
      ],
      "metadata": {
        "id": "aGaVhiaU9Fcu"
      }
    },
    {
      "cell_type": "code",
      "source": [
        "graph = dgl.remove_self_loop(graph)\n",
        "graph = dgl.add_self_loop(graph)"
      ],
      "metadata": {
        "id": "qVq07MXx89-B"
      },
      "execution_count": null,
      "outputs": []
    },
    {
      "cell_type": "code",
      "source": [
        "feat_in = features.shape[-1]\n",
        "num_class = dataset.num_classes"
      ],
      "metadata": {
        "id": "uDonbDey-Dq3"
      },
      "execution_count": null,
      "outputs": []
    },
    {
      "cell_type": "code",
      "source": [
        "from dgl.nn import GraphConv\n",
        "import torch.nn as nn\n",
        "import torch.nn.functional as func"
      ],
      "metadata": {
        "id": "1Luh0011Fp0c"
      },
      "execution_count": null,
      "outputs": []
    },
    {
      "cell_type": "code",
      "source": [
        "class Net(nn.Module):\n",
        "  def __init__(self):\n",
        "    super(Net, self).__init__()\n",
        "    self.layer1 = GraphConv(feat_in, 64)\n",
        "    self.layer2 = GraphConv(64, num_class)\n",
        "    self.dropout = nn.Dropout(0.5)\n",
        "\n",
        "  def forward(self, g, features):\n",
        "    h1 = func.relu(self.layer1(g, features))\n",
        "    h1 = self.dropout(h1)\n",
        "    h2 = self.layer2(g, h1)\n",
        "    return h2\n",
        "\n",
        "net = Net()"
      ],
      "metadata": {
        "id": "-RtK_SfjGQEy"
      },
      "execution_count": null,
      "outputs": []
    },
    {
      "cell_type": "code",
      "source": [
        "import torch"
      ],
      "metadata": {
        "id": "ckOkeZXpIyCP"
      },
      "execution_count": null,
      "outputs": []
    },
    {
      "cell_type": "code",
      "source": [
        "def evaluate(model, g, features, labels, mask):\n",
        "  model.eval()\n",
        "  with torch.no_grad():\n",
        "    pred = model(g, features)\n",
        "    pred = pred[mask]\n",
        "    labels = labels[mask]\n",
        "\n",
        "    _, indices = torch.max(pred, dim=1)\n",
        "    correct = torch.sum(indices == labels)\n",
        "\n",
        "    return correct.item()*1.0/len(labels)"
      ],
      "metadata": {
        "id": "fVl62811JHLH"
      },
      "execution_count": null,
      "outputs": []
    },
    {
      "cell_type": "code",
      "source": [
        "optimizer = torch.optim.Adam(net.parameters(), lr=1e-2, weight_decay=5e-4, eps=1e-8, amsgrad=True)\n",
        "\n",
        "loss_list =[]\n",
        "acc_list = []\n",
        "all_pred = []\n",
        "\n",
        "for each in range(200):\n",
        "  net.train()\n",
        "  pred = net(graph, features)\n",
        "  logp = func.log_softmax(pred,1)\n",
        "  all_pred.append(logp)\n",
        "\n",
        "  loss = func.cross_entropy(logp[train_mask], labels[train_mask])\n",
        "  optimizer.zero_grad()\n",
        "  loss.backward()\n",
        "  optimizer.step()\n",
        "\n",
        "  acc = evaluate(net, graph, features, labels, test_mask)\n",
        "  acc_list.append(acc)\n",
        "  loss_list.append(loss.item())\n"
      ],
      "metadata": {
        "id": "qxgPh_qlHT4g"
      },
      "execution_count": null,
      "outputs": []
    },
    {
      "cell_type": "code",
      "source": [
        "import matplotlib.pyplot as plt\n",
        "\n",
        "plt.plot(acc_list)\n",
        "plt.xlabel('Epoch')\n",
        "plt.ylabel('Acc')"
      ],
      "metadata": {
        "colab": {
          "base_uri": "https://localhost:8080/",
          "height": 466
        },
        "id": "N4N_hcPnKoYT",
        "outputId": "fb9e3f6e-8f19-41ce-c7cb-f006fd69331e"
      },
      "execution_count": null,
      "outputs": [
        {
          "output_type": "execute_result",
          "data": {
            "text/plain": [
              "Text(0, 0.5, 'Acc')"
            ]
          },
          "metadata": {},
          "execution_count": 15
        },
        {
          "output_type": "display_data",
          "data": {
            "text/plain": [
              "<Figure size 640x480 with 1 Axes>"
            ],
            "image/png": "[encoded data removed]"
          },
          "metadata": {}
        }
      ]
    },
    {
      "cell_type": "code",
      "source": [
        "max(acc_list)"
      ],
      "metadata": {
        "colab": {
          "base_uri": "https://localhost:8080/"
        },
        "id": "dxZ4c6UtLeFG",
        "outputId": "8b9dfb86-96d9-455e-c584-6ca7bfedec14"
      },
      "execution_count": null,
      "outputs": [
        {
          "output_type": "execute_result",
          "data": {
            "text/plain": [
              "0.723"
            ]
          },
          "metadata": {},
          "execution_count": 16
        }
      ]
    },
    {
      "cell_type": "code",
      "source": [
        "acc_list[-1]"
      ],
      "metadata": {
        "colab": {
          "base_uri": "https://localhost:8080/"
        },
        "id": "2tYJHqolLi2B",
        "outputId": "8f12f070-b6bb-4405-e241-70e2f3c06f41"
      },
      "execution_count": null,
      "outputs": [
        {
          "output_type": "execute_result",
          "data": {
            "text/plain": [
              "0.716"
            ]
          },
          "metadata": {},
          "execution_count": 17
        }
      ]
    },
    {
      "cell_type": "code",
      "source": [],
      "metadata": {
        "id": "lodLsD1MLmr9"
      },
      "execution_count": null,
      "outputs": []
    }
  ]
}